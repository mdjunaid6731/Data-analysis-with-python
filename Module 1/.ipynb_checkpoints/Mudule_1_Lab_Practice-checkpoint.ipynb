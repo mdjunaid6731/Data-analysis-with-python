{
 "cells": [
  {
   "cell_type": "markdown",
   "id": "832a02c8-d0bf-4364-bd36-3656d716d982",
   "metadata": {},
   "source": [
    "Hands-on Practice Lab: Importing Dataset - Laptops Pricing.\n",
    "\n",
    "Objectives.\n",
    "After completing this lab you will be able to:.\n",
    "\n",
    "1) Import a dataset from a CSV file to a Pandas dataframe.\n",
    "2) Develop some basic insights about the dataset."
   ]
  },
  {
   "cell_type": "code",
   "execution_count": 1,
   "id": "85c669bd-8651-4a6a-81b1-f2d4766f4758",
   "metadata": {},
   "outputs": [],
   "source": [
    "import pandas as pd\n",
    "import numpy as np"
   ]
  },
  {
   "cell_type": "code",
   "execution_count": 2,
   "id": "acd1a246-0f12-4594-99a9-7755f749be77",
   "metadata": {},
   "outputs": [],
   "source": [
    "laptop_pricing = \"https://cf-courses-data.s3.us.cloud-object-storage.appdomain.cloud/IBMDeveloperSkillsNetwork-DA0101EN-Coursera/laptop_pricing_dataset_base.csv\""
   ]
  },
  {
   "cell_type": "markdown",
   "id": "13ae67d1-39fd-4447-a147-19f495c85959",
   "metadata": {},
   "source": [
    "Task #1: \n",
    "Load the dataset to a pandas dataframe named 'df'.\n",
    "Print the first 5 entries of the dataset to confirm loading."
   ]
  },
  {
   "cell_type": "code",
   "execution_count": 3,
   "id": "c4fb6ee4-25f0-473f-bafc-b683ed1953e5",
   "metadata": {},
   "outputs": [
    {
     "name": "stdout",
     "output_type": "stream",
     "text": [
      "     0   1          2   3   4   5       6    7   8    9     10    11\n",
      "0  Acer   4  IPS Panel   2   1   5   35.56  1.6   8  256   1.6   978\n",
      "1  Dell   3    Full HD   1   1   3  39.624  2.0   4  256   2.2   634\n",
      "2  Dell   3    Full HD   1   1   7  39.624  2.7   8  256   2.2   946\n",
      "3  Dell   4  IPS Panel   2   1   5  33.782  1.6   8  128  1.22  1244\n",
      "4    HP   4    Full HD   2   1   7  39.624  1.8   8  256  1.91   837\n"
     ]
    }
   ],
   "source": [
    "df = pd.read_csv(\"laptop_pricing_dataset_base.csv\", header = None)\n",
    "print(df.head())"
   ]
  },
  {
   "cell_type": "markdown",
   "id": "708c621a-5fd4-4852-8e7b-88815419ac21",
   "metadata": {},
   "source": [
    "Task #2: \n",
    "Add headers to the dataframe.\n",
    "The headers for the dataset, in sequence, are \"Manufacturer\", \"Category\", \"Screen\", \"GPU\", \"OS\", \"CPU_core\", \"Screen_Size_inch\", \"CPU_frequency\", \"RAM_GB\", \"Storage_GB_SSD\", \"Weight_kg\" and \"Price\".\n",
    "Confirm insertion by printing the first 10 rows of the dataset."
   ]
  },
  {
   "cell_type": "code",
   "execution_count": 4,
   "id": "7237c68c-76ac-4fbb-8f83-516f9837e744",
   "metadata": {},
   "outputs": [
    {
     "name": "stdout",
     "output_type": "stream",
     "text": [
      "  Manufacturer  Category     Screen  GPU  OS  CPU_core Screen_Size_inch  \\\n",
      "0         Acer         4  IPS Panel    2   1         5            35.56   \n",
      "1         Dell         3    Full HD    1   1         3           39.624   \n",
      "2         Dell         3    Full HD    1   1         7           39.624   \n",
      "3         Dell         4  IPS Panel    2   1         5           33.782   \n",
      "4           HP         4    Full HD    2   1         7           39.624   \n",
      "5         Dell         3    Full HD    1   1         5           39.624   \n",
      "6           HP         3    Full HD    3   1         5           39.624   \n",
      "7         Acer         3  IPS Panel    2   1         5             38.1   \n",
      "8         Dell         3    Full HD    1   1         5           39.624   \n",
      "9         Acer         3  IPS Panel    3   1         7             38.1   \n",
      "\n",
      "   CPU_frequency  RAM_GB  Storage_GB_SSD Weight_kg  Price  \n",
      "0            1.6       8             256       1.6    978  \n",
      "1            2.0       4             256       2.2    634  \n",
      "2            2.7       8             256       2.2    946  \n",
      "3            1.6       8             128      1.22   1244  \n",
      "4            1.8       8             256      1.91    837  \n",
      "5            1.6       8             256       2.2   1016  \n",
      "6            1.6       8             256       2.1   1117  \n",
      "7            1.6       4             256       2.2    866  \n",
      "8            2.5       4             256       2.3    812  \n",
      "9            1.8       8             256       2.2   1068  \n"
     ]
    }
   ],
   "source": [
    "# create headers list\n",
    "headers = [\"Manufacturer\", \"Category\", \"Screen\", \"GPU\", \"OS\", \"CPU_core\", \"Screen_Size_inch\", \"CPU_frequency\", \"RAM_GB\", \"Storage_GB_SSD\", \"Weight_kg\", \"Price\"]\n",
    "df.columns = headers\n",
    "print(df.head(10))"
   ]
  },
  {
   "cell_type": "markdown",
   "id": "8e3076aa-2d20-42a7-9b81-ecc0e7f7b05d",
   "metadata": {},
   "source": [
    "Task #3: \n",
    "Replace '?' with 'NaN'.\n",
    "Replace the '?' entries in the dataset with NaN value, recevied from the Numpy package."
   ]
  },
  {
   "cell_type": "code",
   "execution_count": 7,
   "id": "6e0aaec9-4ebd-421d-b785-7ebc59b38522",
   "metadata": {},
   "outputs": [],
   "source": [
    "df.replace('?',np.nan, inplace = True)"
   ]
  },
  {
   "cell_type": "markdown",
   "id": "f2db67a7-46a7-4f9b-a4e5-c70812629660",
   "metadata": {},
   "source": [
    "Task #4: .\n",
    "Print the data types of the dataframe columns.\n",
    "Make a note of the data types of the different columns of the dataset."
   ]
  },
  {
   "cell_type": "code",
   "execution_count": 8,
   "id": "41132664-96c7-4ede-a1a1-495de0a735e0",
   "metadata": {},
   "outputs": [
    {
     "name": "stdout",
     "output_type": "stream",
     "text": [
      "Manufacturer         object\n",
      "Category              int64\n",
      "Screen               object\n",
      "GPU                   int64\n",
      "OS                    int64\n",
      "CPU_core              int64\n",
      "Screen_Size_inch     object\n",
      "CPU_frequency       float64\n",
      "RAM_GB                int64\n",
      "Storage_GB_SSD        int64\n",
      "Weight_kg            object\n",
      "Price                 int64\n",
      "dtype: object\n"
     ]
    }
   ],
   "source": [
    "print(df.dtypes)"
   ]
  },
  {
   "cell_type": "markdown",
   "id": "caab9420-3e7b-49c8-a6f5-f2149e15a77d",
   "metadata": {},
   "source": [
    "Task #5: \n",
    "Print the statistical description of the dataset, including that of 'object' data types."
   ]
  },
  {
   "cell_type": "code",
   "execution_count": 9,
   "id": "06346b9c-3140-416f-b8b2-7421436ee6e8",
   "metadata": {},
   "outputs": [
    {
     "name": "stdout",
     "output_type": "stream",
     "text": [
      "       Manufacturer    Category   Screen         GPU          OS    CPU_core  \\\n",
      "count           238  238.000000      238  238.000000  238.000000  238.000000   \n",
      "unique           11         NaN        2         NaN         NaN         NaN   \n",
      "top            Dell         NaN  Full HD         NaN         NaN         NaN   \n",
      "freq             71         NaN      161         NaN         NaN         NaN   \n",
      "mean            NaN    3.205882      NaN    2.151261    1.058824    5.630252   \n",
      "std             NaN    0.776533      NaN    0.638282    0.235790    1.241787   \n",
      "min             NaN    1.000000      NaN    1.000000    1.000000    3.000000   \n",
      "25%             NaN    3.000000      NaN    2.000000    1.000000    5.000000   \n",
      "50%             NaN    3.000000      NaN    2.000000    1.000000    5.000000   \n",
      "75%             NaN    4.000000      NaN    3.000000    1.000000    7.000000   \n",
      "max             NaN    5.000000      NaN    3.000000    2.000000    7.000000   \n",
      "\n",
      "       Screen_Size_inch  CPU_frequency      RAM_GB  Storage_GB_SSD Weight_kg  \\\n",
      "count               234     238.000000  238.000000      238.000000       233   \n",
      "unique                9            NaN         NaN             NaN        77   \n",
      "top              39.624            NaN         NaN             NaN       2.2   \n",
      "freq                 89            NaN         NaN             NaN        21   \n",
      "mean                NaN       2.360084    7.882353      245.781513       NaN   \n",
      "std                 NaN       0.411393    2.482603       34.765316       NaN   \n",
      "min                 NaN       1.200000    4.000000      128.000000       NaN   \n",
      "25%                 NaN       2.000000    8.000000      256.000000       NaN   \n",
      "50%                 NaN       2.500000    8.000000      256.000000       NaN   \n",
      "75%                 NaN       2.700000    8.000000      256.000000       NaN   \n",
      "max                 NaN       2.900000   16.000000      256.000000       NaN   \n",
      "\n",
      "              Price  \n",
      "count    238.000000  \n",
      "unique          NaN  \n",
      "top             NaN  \n",
      "freq            NaN  \n",
      "mean    1462.344538  \n",
      "std      574.607699  \n",
      "min      527.000000  \n",
      "25%     1066.500000  \n",
      "50%     1333.000000  \n",
      "75%     1777.000000  \n",
      "max     3810.000000  \n"
     ]
    }
   ],
   "source": [
    "print(df.describe(include='all'))"
   ]
  },
  {
   "cell_type": "markdown",
   "id": "66c671b9-e230-4b27-812b-818831d63f3a",
   "metadata": {},
   "source": [
    "Task #6: \n",
    "Print the summary information of the dataset."
   ]
  },
  {
   "cell_type": "code",
   "execution_count": 10,
   "id": "c7413c5a-dfb9-4b73-862d-e261554caf6a",
   "metadata": {},
   "outputs": [
    {
     "name": "stdout",
     "output_type": "stream",
     "text": [
      "<class 'pandas.core.frame.DataFrame'>\n",
      "RangeIndex: 238 entries, 0 to 237\n",
      "Data columns (total 12 columns):\n",
      " #   Column            Non-Null Count  Dtype  \n",
      "---  ------            --------------  -----  \n",
      " 0   Manufacturer      238 non-null    object \n",
      " 1   Category          238 non-null    int64  \n",
      " 2   Screen            238 non-null    object \n",
      " 3   GPU               238 non-null    int64  \n",
      " 4   OS                238 non-null    int64  \n",
      " 5   CPU_core          238 non-null    int64  \n",
      " 6   Screen_Size_inch  234 non-null    object \n",
      " 7   CPU_frequency     238 non-null    float64\n",
      " 8   RAM_GB            238 non-null    int64  \n",
      " 9   Storage_GB_SSD    238 non-null    int64  \n",
      " 10  Weight_kg         233 non-null    object \n",
      " 11  Price             238 non-null    int64  \n",
      "dtypes: float64(1), int64(7), object(4)\n",
      "memory usage: 22.4+ KB\n",
      "None\n"
     ]
    }
   ],
   "source": [
    "print(df.info())"
   ]
  },
  {
   "cell_type": "markdown",
   "id": "a62deaab-a12b-4ece-a861-117e0063cf24",
   "metadata": {},
   "source": [
    "Congratulations! You have completed the lab"
   ]
  },
  {
   "cell_type": "code",
   "execution_count": null,
   "id": "f801b56d-d520-457b-b3c2-5bf525221eeb",
   "metadata": {},
   "outputs": [],
   "source": []
  }
 ],
 "metadata": {
  "kernelspec": {
   "display_name": "Python 3 (ipykernel)",
   "language": "python",
   "name": "python3"
  },
  "language_info": {
   "codemirror_mode": {
    "name": "ipython",
    "version": 3
   },
   "file_extension": ".py",
   "mimetype": "text/x-python",
   "name": "python",
   "nbconvert_exporter": "python",
   "pygments_lexer": "ipython3",
   "version": "3.12.7"
  }
 },
 "nbformat": 4,
 "nbformat_minor": 5
}
